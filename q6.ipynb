{
 "cells": [
  {
   "cell_type": "code",
   "execution_count": 29,
   "metadata": {},
   "outputs": [],
   "source": [
    "import re"
   ]
  },
  {
   "cell_type": "code",
   "execution_count": 143,
   "metadata": {},
   "outputs": [],
   "source": [
    "def assignment(text):\n",
    "    if text[-1]==\";\":\n",
    "        text = text[:-1]\n",
    "        text = text.split(\" \")\n",
    "        list_ = [\"int\",\"float\", \"double\"]\n",
    "        if text[0] in list_ and identifier(text[1]) and text[2]==\"=\" and identifier(text[3]):\n",
    "            return 1\n",
    "        else:\n",
    "            return 0\n",
    "    else:\n",
    "        return 0\n",
    "    \n",
    "def while_statement(text):\n",
    "    print(text)\n",
    " \n",
    "   \n",
    "def if_statement(text):\n",
    "    text = text.split(\" \")\n",
    "    print()\n",
    "    if text[0]==\"if(\" and  expression(\" \".join(text[1:4])) and text[4]==\"){\" and assignment(\" \".join(text[5:-1])) and text[-1]==\"}\":\n",
    "        return 1\n",
    "    else:\n",
    "        return 0\n",
    "            \n",
    "#        text = text.split(\" \")\n",
    "#     list_=[\"if(\",\"){\",\"}else{\",\"}\"]\n",
    "    \n",
    "#      if text[0]==\"void\" or text[0]==\"int\" or text[0]==\"string\" and text[1][-4:-1]==\"(){}\":\n",
    "#         identifier(text[1][0:-4])\n",
    "#         return 1\n",
    "#     else:\n",
    "#         return 0\n",
    "#     for i in range(len(text)):\n",
    "    \n",
    "def identifier(text):\n",
    "    if re.match(r'[a-z,0-9,A-F]+', text):\n",
    "        return 1\n",
    "    else:\n",
    "        return 0\n",
    "\n",
    "    \n",
    "def expression(text):\n",
    "    text = text.split(\" \")\n",
    "    list_ = [\">\",\"<\", \"==\",\"+\",\"-\",\"*\",\"/\"]\n",
    "    if identifier(text[0]) and text[1] in list_ and identifier(text[2]):\n",
    "        return 1\n",
    "    else:\n",
    "        return 0\n",
    "    \n",
    "def function(text):\n",
    "    text = text.split(\" \")\n",
    "    if text[0]==\"void\" or text[0]==\"int\" or text[0]==\"string\" and text[1][-4:-1]==\"(){}\":\n",
    "        identifier(text[1][0:-4])\n",
    "        return 1\n",
    "    else:\n",
    "        return 0\n",
    "        \n",
    "def statement(text):\n",
    "    if assignment(text) :\n",
    "        print(\"assignment\")\n",
    "    elif if_statement(text) :\n",
    "        print(\"if statement\")\n",
    "    elif while_statement(text) :\n",
    "        print(\"while statement\")\n",
    "    elif function(text) :\n",
    "        print(\"function\")\n",
    "     "
   ]
  },
  {
   "cell_type": "code",
   "execution_count": 144,
   "metadata": {},
   "outputs": [
    {
     "data": {
      "text/plain": [
       "1"
      ]
     },
     "execution_count": 144,
     "metadata": {},
     "output_type": "execute_result"
    }
   ],
   "source": [
    "function(\"void bool(){}\")"
   ]
  },
  {
   "cell_type": "code",
   "execution_count": 145,
   "metadata": {},
   "outputs": [
    {
     "data": {
      "text/plain": [
       "1"
      ]
     },
     "execution_count": 145,
     "metadata": {},
     "output_type": "execute_result"
    }
   ],
   "source": [
    "expression('swi < wap')"
   ]
  },
  {
   "cell_type": "code",
   "execution_count": 146,
   "metadata": {},
   "outputs": [
    {
     "name": "stdout",
     "output_type": "stream",
     "text": [
      "\n"
     ]
    },
    {
     "data": {
      "text/plain": [
       "1"
      ]
     },
     "execution_count": 146,
     "metadata": {},
     "output_type": "execute_result"
    }
   ],
   "source": [
    "if_statement(\"if( i > 0 ){ int val = 1; }\")"
   ]
  },
  {
   "cell_type": "code",
   "execution_count": 147,
   "metadata": {},
   "outputs": [
    {
     "name": "stdout",
     "output_type": "stream",
     "text": [
      "while( i < 10 ){print i; i++;}\n"
     ]
    }
   ],
   "source": [
    "while_statement(\"while( i < 10 ){print i; i++;}\")"
   ]
  },
  {
   "cell_type": "code",
   "execution_count": 148,
   "metadata": {},
   "outputs": [
    {
     "data": {
      "text/plain": [
       "1"
      ]
     },
     "execution_count": 148,
     "metadata": {},
     "output_type": "execute_result"
    }
   ],
   "source": [
    "assignment(\"int number = 1;\")"
   ]
  },
  {
   "cell_type": "code",
   "execution_count": 149,
   "metadata": {},
   "outputs": [
    {
     "name": "stdout",
     "output_type": "stream",
     "text": [
      "\n",
      "void var(){}\n",
      "function\n"
     ]
    }
   ],
   "source": [
    "statement(\"void var(){}\")"
   ]
  },
  {
   "cell_type": "code",
   "execution_count": 150,
   "metadata": {},
   "outputs": [
    {
     "name": "stdout",
     "output_type": "stream",
     "text": [
      "assignment\n"
     ]
    }
   ],
   "source": [
    "statement(\"int num = 1;\")"
   ]
  },
  {
   "cell_type": "code",
   "execution_count": 152,
   "metadata": {},
   "outputs": [
    {
     "name": "stdout",
     "output_type": "stream",
     "text": [
      "\n",
      "if statement\n"
     ]
    }
   ],
   "source": [
    "statement(\"if( i > 0 ){ int val = 1; }\")"
   ]
  },
  {
   "cell_type": "code",
   "execution_count": null,
   "metadata": {},
   "outputs": [],
   "source": []
  }
 ],
 "metadata": {
  "kernelspec": {
   "display_name": "Python 3",
   "language": "python",
   "name": "python3"
  },
  "language_info": {
   "codemirror_mode": {
    "name": "ipython",
    "version": 3
   },
   "file_extension": ".py",
   "mimetype": "text/x-python",
   "name": "python",
   "nbconvert_exporter": "python",
   "pygments_lexer": "ipython3",
   "version": "3.7.6"
  }
 },
 "nbformat": 4,
 "nbformat_minor": 4
}
