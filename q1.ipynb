{
 "cells": [
  {
   "cell_type": "code",
   "execution_count": 4,
   "metadata": {},
   "outputs": [],
   "source": [
    "import re"
   ]
  },
  {
   "cell_type": "code",
   "execution_count": 3,
   "metadata": {},
   "outputs": [
    {
     "name": "stdout",
     "output_type": "stream",
     "text": [
      "$int1 = 10;     \n",
      "\n",
      "$int2 = 10.0;     \n",
      "\n",
      "$string = \"hello\";  \n",
      "\n",
      "#comment \n",
      "\n",
      "$total = $num1 + $num2;    \n",
      "\n",
      "print \"$a\";  \n",
      "\n",
      "\n",
      "\n"
     ]
    }
   ],
   "source": [
    "f = open(\"q1code.txt\", \"r\")\n",
    "for x in f:\n",
    "  print(x)"
   ]
  },
  {
   "cell_type": "code",
   "execution_count": null,
   "metadata": {},
   "outputs": [],
   "source": [
    "#perl identifiers\n",
    "def identifer(text):\n",
    "    print()\n",
    "    my $identifier = qr/$h([a-z]\\w*)\\b/i;"
   ]
  },
  {
   "cell_type": "code",
   "execution_count": 22,
   "metadata": {},
   "outputs": [
    {
     "name": "stdout",
     "output_type": "stream",
     "text": [
      "\"\n",
      "h\n",
      "i\n",
      "\"\n"
     ]
    }
   ],
   "source": [
    "#java string literals\n",
    "def string_literal(text):\n",
    "    if text[0]=='\\\"' and text[-1]=='\\\"' :\n",
    "        print('\\\"')\n",
    "        string_characters(text[1:-1])\n",
    "        print('\\\"')\n",
    "\n",
    "    else:\n",
    "        return\n",
    "        \n",
    "def string_characters(text):\n",
    "    for letter in text:\n",
    "        if string_character(letter):\n",
    "            print(letter)\n",
    "        else:\n",
    "            print(\"error\")\n",
    "            break\n",
    "\n",
    "        \n",
    "\n",
    "def string_character(character):\n",
    "    if character ==\"\\\\\" or character==\"\\\"\":\n",
    "        return 0\n",
    "    else:\n",
    "        return 1\n",
    "string_literal('\"hi\"')"
   ]
  },
  {
   "cell_type": "code",
   "execution_count": 14,
   "metadata": {},
   "outputs": [],
   "source": [
    "def count_down_up(n):\n",
    "    if not n:\n",
    "        print(n) \n",
    "        return\n",
    "    print(n)  # print down 5, 4, 3, 2, 1\n",
    "    count_down_up(n-1)  # recursion point\n",
    "    print(n)  # prints up 1, 2, 3, 4, 5\n"
   ]
  },
  {
   "cell_type": "code",
   "execution_count": 49,
   "metadata": {},
   "outputs": [
    {
     "name": "stdout",
     "output_type": "stream",
     "text": [
      "0\n",
      "x\n",
      "1\n",
      "A\n",
      "1\n"
     ]
    }
   ],
   "source": [
    "# C  Integer literal\n",
    "def interger_literal(numbers):\n",
    "    for i in range(len(numbers)):\n",
    "        if numbers[0]==\"0\" and numbers[1]!=\"x\":\n",
    "            #octal\n",
    "            if i>= 1:\n",
    "                if octal_constant(numbers[i]):\n",
    "                    print(numbers[i])\n",
    "                else:\n",
    "                    print(\"error\")\n",
    "                    break\n",
    "            #check integer suffix\n",
    "            elif i==len(numbers)-1:\n",
    "                if integer_suffix(numbers[i]):\n",
    "                    print(numbers[i])\n",
    "                else:\n",
    "                    print(\"error\")\n",
    "                    break\n",
    "            elif i<1:\n",
    "                print(numbers[i])\n",
    "            \n",
    "        elif numbers[0]==\"0\" and numbers[1]==\"x\":\n",
    "            \n",
    "            #hexa\n",
    "            if i>= 2:\n",
    "                if hex_constant(numbers[i]):\n",
    "                    print(numbers[i])\n",
    "                else:\n",
    "                    print(\"error\")\n",
    "                    break\n",
    "            #check integer suffix\n",
    "            elif i==len(numbers)-1:\n",
    "                if integer_suffix(numbers[i]):\n",
    "                    print(numbers[i])\n",
    "                else:\n",
    "                    print(\"error\")\n",
    "                    break\n",
    "            elif i<2:\n",
    "                print(numbers[i])\n",
    "        else:\n",
    "            #if its not the last number decimal constant\n",
    "            if i!=len(numbers)-1:\n",
    "                if decimal_constant(numbers[i]):\n",
    "                    print(numbers[i])\n",
    "                else:\n",
    "                    print(\"error\")\n",
    "                    break\n",
    "            #check integer suffix\n",
    "            else:\n",
    "                if integer_suffix(numbers[i]):\n",
    "                    print(numbers[i])\n",
    "                else:\n",
    "                    print(\"error\")\n",
    "                    break\n",
    "        \n",
    "\n",
    "def octal_constant(number):\n",
    "    if re.match(r'[0-7]', number):\n",
    "        return 1\n",
    "    else:\n",
    "        return 0\n",
    "def hex_constant(number):\n",
    "    if re.match(r'[0-9,A-F,a-f]', number):\n",
    "        return 1\n",
    "    else:\n",
    "        return 0\n",
    "def decimal_constant(number):\n",
    "    if re.match(r'[0-9]', number):\n",
    "        return 1\n",
    "    else:\n",
    "        return 0\n",
    "    \n",
    "def integer_suffix(number):\n",
    "    if re.match(r'[0-9,u,U,l,L]', number):\n",
    "        return 1\n",
    "    else:\n",
    "        return 0\n",
    "interger_literal(\"0x1A1\")"
   ]
  },
  {
   "cell_type": "code",
   "execution_count": 55,
   "metadata": {},
   "outputs": [
    {
     "name": "stdout",
     "output_type": "stream",
     "text": [
      "'\n",
      "t\n",
      "e\n",
      "x\n",
      "t\n",
      "'\n"
     ]
    }
   ],
   "source": [
    "# c character literal \n",
    "def char_sequence(text):\n",
    "    if text[-1]!=\"\\\\\":\n",
    "         for i in range(len(text)):\n",
    "            if re.match(r'[0-9,a-z,A-Z,\\\\,\\',\\\"]', text[i]):\n",
    "                print(text[i])\n",
    "            else:\n",
    "                return 0\n",
    "    else:\n",
    "        print(\"error\")\n",
    "            \n",
    "def char_literal(text):\n",
    "    if text[0]=='\\'' and text[-1]=='\\'' :\n",
    "        print('\\'')\n",
    "        char_sequence(text[1:-1])\n",
    "        print('\\'')\n",
    "    elif text[0]=='u' and text[1]=='\\'' and text[-1]=='\\'' :\n",
    "        print('\\'')\n",
    "        char_sequence(text[1:-1])\n",
    "        print('\\'')\n",
    "    elif text[0]=='u' and text[1]=='u' and text[2]=='\\'' and text[-1]=='\\'' :\n",
    "        print('\\'')\n",
    "        char_sequence(text[1:-1])\n",
    "        print('\\'')\n",
    "    elif text[0]=='U' and text[1]=='\\'' and text[-1]=='\\'' :\n",
    "        print('\\'')\n",
    "        char_sequence(text[1:-1])\n",
    "        print('\\'')\n",
    "    elif text[0]=='L' and text[1]=='\\'' and text[-1]=='\\'' :\n",
    "        print('\\'')\n",
    "        char_sequence(text[1:-1])\n",
    "        print('\\'')\n",
    "    else:\n",
    "        return\n",
    "\n",
    "char_literal(\"'text'\")"
   ]
  },
  {
   "cell_type": "code",
   "execution_count": 80,
   "metadata": {},
   "outputs": [
    {
     "name": "stdout",
     "output_type": "stream",
     "text": [
      "0\n",
      "x\n",
      "1\n",
      ".\n",
      "2\n",
      "e\n",
      "3\n"
     ]
    }
   ],
   "source": [
    "# c float literal\n",
    "def float_literal(text):\n",
    "    error = 0\n",
    "    #check is float starts with 0x or not\n",
    "    if text[0]=='0' and text[1]=='x':\n",
    "        #match against float reg ex\n",
    "        if re.match(r'^[-+]?[0-9]*\\.?[0-9]+([eEpP][-+]?[0-9]+)?', text[2:]):\n",
    "            error=0\n",
    "        else:\n",
    "            error=1\n",
    "    else:\n",
    "        if re.match(r'^[-+]?[0-9]*\\.?[0-9]+([eEpP][-+]?[0-9]+)?', text):\n",
    "            error=0\n",
    "        else:\n",
    "            error=1\n",
    "    if error ==0:\n",
    "        for i in text:\n",
    "            print(i)\n",
    "    else:\n",
    "        print(\"error\")\n",
    "            \n",
    "float_literal(\"0x1.2e3\")"
   ]
  },
  {
   "cell_type": "code",
   "execution_count": null,
   "metadata": {},
   "outputs": [],
   "source": [
    "def non_alphanumeric(symbol):\n",
    "    if symbol==\"+\":\n",
    "        print(\"addition\")\n",
    "    elif symbol==\"-\":\n",
    "        print(\"subtraction\")\n",
    "    elif symbol==\"\\/\":\n",
    "        print(\"divide\")\n",
    "    elif symbol==\"*\":\n",
    "        print(\"multiply\")\n",
    "    elif symbol==\"++\" \n",
    "        print(\"increment\")\n",
    "    elif symbol==\"--\" \n",
    "        print(\"decrement\")\n",
    "    elif symbol==\"%\":\n",
    "        print(\"modular\")\n",
    "    elif symbol==\"&&\":\n",
    "        print(\"and\")\n",
    "    elif symbol==\"||\":\n",
    "        print(\"or\")\n",
    "    elif symbol==\"!\":\n",
    "        print(\"not\")\n",
    "    elif symbol==\"{\":\n",
    "        print(\"open_block\")\n",
    "    elif symbol==\"}\":\n",
    "        print(\"close_block\")\n",
    "    elif symbol==\"(\":\n",
    "        print(\"open_bracket\")\n",
    "    elif symbol==\")\":\n",
    "        print(\"close_block\")\n",
    "    "
   ]
  }
 ],
 "metadata": {
  "kernelspec": {
   "display_name": "Python 3",
   "language": "python",
   "name": "python3"
  },
  "language_info": {
   "codemirror_mode": {
    "name": "ipython",
    "version": 3
   },
   "file_extension": ".py",
   "mimetype": "text/x-python",
   "name": "python",
   "nbconvert_exporter": "python",
   "pygments_lexer": "ipython3",
   "version": "3.7.6"
  }
 },
 "nbformat": 4,
 "nbformat_minor": 4
}
